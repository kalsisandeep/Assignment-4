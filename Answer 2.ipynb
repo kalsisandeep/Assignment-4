{
 "cells": [
  {
   "cell_type": "code",
   "execution_count": 3,
   "id": "21907a62",
   "metadata": {},
   "outputs": [
    {
     "name": "stdout",
     "output_type": "stream",
     "text": [
      "list:  (1, 2, 3, 4, 5, 6, 7)\n",
      "\n",
      "\n",
      "(3, 6, 9, 12, 15, 18, 21)\n"
     ]
    }
   ],
   "source": [
    "l= (1, 2, 3, 4, 5, 6, 7) \n",
    "print(\"list: \", l)\n",
    "r = map(lambda x: x + x + x, l) \n",
    "print(\"\\n\")\n",
    "print(tuple(r))"
   ]
  }
 ],
 "metadata": {
  "kernelspec": {
   "display_name": "Python 3 (ipykernel)",
   "language": "python",
   "name": "python3"
  },
  "language_info": {
   "codemirror_mode": {
    "name": "ipython",
    "version": 3
   },
   "file_extension": ".py",
   "mimetype": "text/x-python",
   "name": "python",
   "nbconvert_exporter": "python",
   "pygments_lexer": "ipython3",
   "version": "3.10.3"
  }
 },
 "nbformat": 4,
 "nbformat_minor": 5
}
